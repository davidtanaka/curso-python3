{
 "cells": [
  {
   "cell_type": "markdown",
   "id": "c61f49b3-e45d-49cd-8ea9-6e4a6082ba03",
   "metadata": {},
   "source": [
    "# Primeiros Exemplos"
   ]
  },
  {
   "cell_type": "code",
   "execution_count": 3,
   "id": "c5c9daa2-665f-4882-88dd-b73f532503c4",
   "metadata": {},
   "outputs": [
    {
     "name": "stdout",
     "output_type": "stream",
     "text": [
      "primeiro programa\n",
      "Help on built-in function print in module builtins:\n",
      "\n",
      "print(*args, sep=' ', end='\\n', file=None, flush=False)\n",
      "    Prints the values to a stream, or to sys.stdout by default.\n",
      "    \n",
      "    sep\n",
      "      string inserted between values, default a space.\n",
      "    end\n",
      "      string appended after the last value, default a newline.\n",
      "    file\n",
      "      a file-like object (stream); defaults to the current sys.stdout.\n",
      "    flush\n",
      "      whether to forcibly flush the stream.\n",
      "\n"
     ]
    }
   ],
   "source": [
    "print('primeiro programa')\n",
    "1 \\\n",
    " + 2\n",
    "\n",
    "help(print)"
   ]
  },
  {
   "cell_type": "code",
   "execution_count": 4,
   "id": "ef228e24-6476-4bc7-9ac1-dc658e63e76c",
   "metadata": {},
   "outputs": [
    {
     "data": {
      "text/plain": [
       "15"
      ]
     },
     "execution_count": 4,
     "metadata": {},
     "output_type": "execute_result"
    }
   ],
   "source": [
    "1 + 2 + 3\n",
    "4 + 5 + 6"
   ]
  },
  {
   "cell_type": "code",
   "execution_count": 5,
   "id": "8825a1c2-7cbd-4a14-94a0-78d047c9e12d",
   "metadata": {},
   "outputs": [
    {
     "name": "stdout",
     "output_type": "stream",
     "text": [
      "6\n",
      "15\n"
     ]
    }
   ],
   "source": [
    "print(1 + 2 + 3)\n",
    "print(4 + 5 + 6)"
   ]
  },
  {
   "cell_type": "markdown",
   "id": "c660d594-9a2f-4386-92dd-c9a778a5cd2c",
   "metadata": {},
   "source": [
    "# Tipos Básicos"
   ]
  },
  {
   "cell_type": "code",
   "execution_count": 6,
   "id": "ef9d10d0-4d0f-4255-bbbe-f58145ef64e4",
   "metadata": {},
   "outputs": [
    {
     "name": "stdout",
     "output_type": "stream",
     "text": [
      "True\n",
      "False\n",
      "2.2\n",
      "Esse é meu idioma\n",
      "Com aspas duplas também funciona\n",
      "Você é muitomuitodahora!\n",
      "[1, 2, 3]\n",
      "{'nome': 'Davi', 'sobrenome': 'Tanaka'}\n",
      "None\n"
     ]
    }
   ],
   "source": [
    "print(True)\n",
    "print(False)\n",
    "print(1.2 + 1)\n",
    "print('Esse é meu idioma')\n",
    "print(\"Com aspas duplas também funciona\")\n",
    "print('Você é ' + 2 * 'muito' + 'dahora!')\n",
    "print([1, 2, 3])\n",
    "print({'nome': 'Davi', 'sobrenome': 'Tanaka'})\n",
    "print(None)"
   ]
  },
  {
   "cell_type": "markdown",
   "id": "b78f92e5-f847-4348-bce5-b976872af018",
   "metadata": {},
   "source": [
    "# Variáveis"
   ]
  },
  {
   "cell_type": "code",
   "execution_count": 7,
   "id": "184d15ca-9cea-4e90-a2b0-1250aa513496",
   "metadata": {},
   "outputs": [
    {
     "name": "stdout",
     "output_type": "stream",
     "text": [
      "15.2\n",
      "Agora sou uma string!\n"
     ]
    },
    {
     "data": {
      "text/plain": [
       "5.2"
      ]
     },
     "execution_count": 7,
     "metadata": {},
     "output_type": "execute_result"
    }
   ],
   "source": [
    "a = 10\n",
    "b = 5.2\n",
    "\n",
    "print(a + b)\n",
    "\n",
    "a = 'Agora sou uma string!'\n",
    "print(a)\n",
    "a\n",
    "b\n",
    "\n",
    "# print(a + b)"
   ]
  },
  {
   "cell_type": "markdown",
   "id": "a235eb48-5642-46ba-9f99-1dd6e37894e4",
   "metadata": {},
   "source": [
    "# Comentários"
   ]
  },
  {
   "cell_type": "code",
   "execution_count": 4,
   "id": "1729e947-3a6a-4448-b22c-b8358da8560c",
   "metadata": {},
   "outputs": [
    {
     "name": "stdout",
     "output_type": "stream",
     "text": [
      "0.17599999999999993\n",
      "Fim de verdade\n"
     ]
    }
   ],
   "source": [
    "# Minhas variáveis\n",
    "salario = 1.412\n",
    "despesas = 1.236\n",
    "\n",
    "\"\"\"\n",
    "A ideia é calcular o\n",
    "quanto vai sobrar do\n",
    "salário no fim do mês.\n",
    "\"\"\"\n",
    "sobra = salario - despesas\n",
    "print(sobra)\n",
    "\n",
    "# print(fim)\n",
    "print('Fim de verdade') # comentário também funciona aqui"
   ]
  },
  {
   "cell_type": "markdown",
   "id": "74883421-4429-4fbf-af2a-da39f6f86a46",
   "metadata": {},
   "source": [
    "# Operadores Aritméticos"
   ]
  },
  {
   "cell_type": "code",
   "execution_count": 5,
   "id": "314e628a-7819-448f-8f90-f0f44c4943a4",
   "metadata": {},
   "outputs": [
    {
     "name": "stdout",
     "output_type": "stream",
     "text": [
      "7\n",
      "1\n",
      "12.6\n",
      "1.9047619047619047\n",
      "1.0\n",
      "125\n",
      "4\n",
      "24\n"
     ]
    }
   ],
   "source": [
    "print(4 + 3)\n",
    "print(2 - 1)\n",
    "print(2 * 6.3)\n",
    "print(8 / 4.2)\n",
    "print(8 // 4.2)\n",
    "print(5 ** 3)\n",
    "print(9 % 5)\n",
    "\n",
    "a = 12\n",
    "b = a\n",
    "print(a + b)\n"
   ]
  },
  {
   "cell_type": "code",
   "execution_count": 3,
   "id": "19d14c5e-b19d-4fa6-b3d0-34ab3cf83e4a",
   "metadata": {},
   "outputs": [
    {
     "name": "stdout",
     "output_type": "stream",
     "text": [
      "Suas despesas vai utilizar um total de -> 88% do valor de seu salário\n",
      "87.53541076487252\n"
     ]
    }
   ],
   "source": [
    "# Desafio de operadores aritméticos\n",
    "salario = 1.412\n",
    "despesas = 1.236\n",
    "\n",
    "# Minha solução\n",
    "porcentagem_de_gastos = (despesas / salario) * 100\n",
    "print(f'Suas despesas vai utilizar um total de -> {porcentagem_de_gastos:.0f}% do valor de seu salário')\n",
    "\n",
    "# Solução do professor\n",
    "percentual_comprometido = despesas / salario * 100\n",
    "print(percentual_comprometido)"
   ]
  },
  {
   "cell_type": "markdown",
   "id": "fd98c3d1-969e-4f7b-9872-56be99673d62",
   "metadata": {},
   "source": [
    "# Operadores Relacionais"
   ]
  },
  {
   "cell_type": "code",
   "execution_count": null,
   "id": "aa837be1-98f7-4581-ae6b-d6a5988293c9",
   "metadata": {},
   "outputs": [],
   "source": [
    "# Operadores relacionais em Python:\n",
    "# Observe a diferença entre comparar números (int) e strings (str)\n",
    "print(3 > 4) \n",
    "print(4 >= 3)\n",
    "print(1 < 2)\n",
    "print(3 <= 1)\n",
    "print(3 != 2)\n",
    "print(4==4)  # Comparação numérica\n",
    "print(4=='4') # Comparação de tipos diferentes (número e string)\n"
   ]
  },
  {
   "cell_type": "markdown",
   "id": "11400892-5c5c-4ee1-90e9-49c84265fa27",
   "metadata": {},
   "source": [
    "# Operadores de atribuição"
   ]
  },
  {
   "cell_type": "code",
   "execution_count": null,
   "id": "aa731707-369e-4dbb-a611-d0a5281374b6",
   "metadata": {},
   "outputs": [],
   "source": [
    "# Operadores de Atribuição\n",
    "# -------------------------\n",
    "# Permitem modificar variáveis com operações diretas.\n",
    "# Exemplo: a += 5 equivale a a = a + 5\n",
    "\n",
    "# Inicializa 'a'\n",
    "a = 4\n",
    "\n",
    "# Operações com operadores de atribuição\n",
    "a += 7\n",
    "print(a)  # 11\n",
    "\n",
    "a += 5\n",
    "print(a)  # 16\n",
    "\n",
    "a -= 2\n",
    "print(a)  # 14\n",
    "\n",
    "a *= 3\n",
    "print(a)  # 42\n",
    "\n",
    "a /= 1\n",
    "print(a)  # 42.0\n",
    "\n",
    "a %= 4\n",
    "print(a)  # 2.0\n",
    "\n",
    "a **= 6\n",
    "print(a)  # 64.0\n",
    "\n",
    "a //= 453\n",
    "print(a)  # 0.0\n"
   ]
  },
  {
   "cell_type": "markdown",
   "id": "ae41456d-9f11-41cb-9ea1-45a59dfac7a2",
   "metadata": {},
   "source": [
    "# Operadores Lógicos"
   ]
  },
  {
   "cell_type": "code",
   "execution_count": 9,
   "id": "0aeb57b7-1fd3-4e02-9c25-06bf748e85f6",
   "metadata": {},
   "outputs": [
    {
     "data": {
      "text/plain": [
       "True"
      ]
     },
     "execution_count": 9,
     "metadata": {},
     "output_type": "execute_result"
    }
   ],
   "source": [
    "True or False\n",
    "7 != 3 and 2 > 3\n",
    "\n",
    "# Tabela da Verdade do AND\n",
    "True and True\n",
    "True and False\n",
    "False and True\n",
    "False and False\n",
    "\n",
    "\n",
    "# Tabela da Verdade do OR\n",
    "True or True\n",
    "True or False\n",
    "False or True\n",
    "False or False\n",
    "\n",
    "\n",
    "# Tabela da Verdade do XOR\n",
    "True != True\n",
    "True != False\n",
    "False != True\n",
    "False != False\n",
    "\n",
    "# Operador de negação (unário)\n",
    "not True\n",
    "not False\n",
    "\n",
    "# Um pouco de realidade\n",
    "saldo = 1000 \n",
    "salario = 3400\n",
    "despesas = 1900\n",
    "\n",
    "saldo_positivo = saldo > 0\n",
    "despesas_controladas = salario - despesas >= 0.2 * salario\n",
    "\n",
    "meta = saldo_positivo and despesas_controladas\n",
    "meta\n"
   ]
  },
  {
   "cell_type": "code",
   "execution_count": 1,
   "id": "47246ac9-1b05-40d5-9caf-e42a9a8171bf",
   "metadata": {},
   "outputs": [
    {
     "name": "stdout",
     "output_type": "stream",
     "text": [
      "Tv de 50 polegadas False, Tv de 32 polegadas True\n",
      "Você tomou sorvete? True, sua Saúde esta boa? False\n"
     ]
    }
   ],
   "source": [
    "# Desafio de operadores lógicos \n",
    "\"\"\"\n",
    "Este programa simula um cenário onde a família ganha recompensas\n",
    "(como ir ao shopping) com base no sucesso em duas tarefas.\n",
    "O resultado de cada tarefa determina o tipo de recompensa\n",
    "e se a \"saúde\" da família aumenta ou diminui.\n",
    "\n",
    "- Confirmando os 2: TV 50' + Sorvete\n",
    "- Confirmando apenas 1: TV 32' + Sorvete\n",
    "- Nenhum confirmado: Fica em casa\n",
    "\"\"\"\n",
    "\n",
    "tarefa_terca = False\n",
    "tarefa_quinta = True\n",
    "\n",
    "tv_50 = tarefa_terca and tarefa_quinta\n",
    "tv_32 = tarefa_terca or tarefa_quinta\n",
    "sorvete = tarefa_terca or tarefa_quinta\n",
    "saude = not sorvete\n",
    "\n",
    "print(f'Tv de 50 polegadas {tv_50}, Tv de 32 polegadas {tv_32}')\n",
    "print(f'Você tomou sorvete? {sorvete}, sua Saúde esta boa? {saude}')\n"
   ]
  },
  {
   "cell_type": "markdown",
   "id": "5949f5ce-43be-4237-a9da-6a636a458c51",
   "metadata": {},
   "source": [
    "# Operadores Unários"
   ]
  },
  {
   "cell_type": "code",
   "execution_count": 2,
   "id": "e14bca5d-ae99-42b2-b8e0-511dcf3b23e1",
   "metadata": {},
   "outputs": [
    {
     "name": "stdout",
     "output_type": "stream",
     "text": [
      "-3\n"
     ]
    }
   ],
   "source": [
    "a = 3  # Atribui o valor 3 à variável 'a'\n",
    "\n",
    "# a++  # Incrementaria 'a' em 1, mas está comentado\n",
    "a += 1  # Incrementa 'a' em 1 (equivalente a a = a + 1)\n",
    "\n",
    "# a--  # Decrementaria 'a' em 1, mas está comentado\n",
    "a -= 1  # Decrementa 'a' em 1 (equivalente a a = a - 1)\n",
    "\n",
    "a = -a  # Inverte o sinal de 'a' (se era positivo, fica negativo e vice-versa)\n",
    "print(a)\n"
   ]
  },
  {
   "cell_type": "markdown",
   "id": "3378275d-a72e-4e67-b738-d08f0c18052f",
   "metadata": {},
   "source": [
    "# Operadores Ternários"
   ]
  },
  {
   "cell_type": "code",
   "execution_count": 3,
   "id": "c962ff5a-9a22-49bb-bcb8-74cbfd1485be",
   "metadata": {},
   "outputs": [
    {
     "name": "stdout",
     "output_type": "stream",
     "text": [
      "Hoje está Chovendo.\n",
      "Hoje está Chovendo.\n"
     ]
    }
   ],
   "source": [
    "esta_chovendo = True\n",
    "\n",
    "# Sem if\n",
    "clima = 'Hoje está ' + ('Sol.', 'Chovendo.')[esta_chovendo]\n",
    "print(clima)\n",
    "\n",
    "# Com if\n",
    "clima = 'Hoje está ' + ('Chovendo.' if esta_chovendo else 'Sol.')\n",
    "print(clima)\n"
   ]
  },
  {
   "cell_type": "markdown",
   "id": "42626bc3-6dc9-44f5-9f53-655fde72441b",
   "metadata": {},
   "source": [
    "# Mais Operadores"
   ]
  },
  {
   "cell_type": "code",
   "execution_count": 1,
   "id": "b870aaad-b071-4d86-9d03-caf66d5f592d",
   "metadata": {},
   "outputs": [
    {
     "name": "stdout",
     "output_type": "stream",
     "text": [
      "True\n",
      "True\n",
      "True\n",
      "False\n",
      "False\n",
      "False\n",
      "True\n"
     ]
    }
   ],
   "source": [
    "# Operadores de Membro\n",
    "lista = [1, 2, 3, 'Ana', 'Claudia']\n",
    "print(2 in lista)\n",
    "\n",
    "# Operadores de Identidade\n",
    "x = 4\n",
    "y = x\n",
    "z = 4\n",
    "print(x is y)\n",
    "print(y is z)\n",
    "print(x is not z)\n",
    "\n",
    "lista1 = [9, 8, 4]\n",
    "lista2 = lista\n",
    "lista3 = [9, 8, 4]\n",
    "print(lista1 is lista2)\n",
    "print(lista1 is lista3)\n",
    "print(lista1 is not lista3)\n"
   ]
  },
  {
   "cell_type": "markdown",
   "id": "52411b0a-3e7f-4790-8d10-d0f6e125a68c",
   "metadata": {},
   "source": [
    "# Builtins"
   ]
  },
  {
   "cell_type": "code",
   "execution_count": 3,
   "id": "c87133b9-2fd7-49a2-a2a4-7d946e4291d1",
   "metadata": {},
   "outputs": [
    {
     "name": "stdout",
     "output_type": "stream",
     "text": [
      "3.3333333333333335\n"
     ]
    },
    {
     "data": {
      "text/plain": [
       "12"
      ]
     },
     "execution_count": 3,
     "metadata": {},
     "output_type": "execute_result"
    }
   ],
   "source": [
    "# type()\n",
    "type(1)\n",
    "\n",
    "__builtins__.type('Olá, mundo!')\n",
    "__builtins__.print(10 / 3)\n",
    "\n",
    "# __builtins__.help(__builtins__.dir)\n",
    "\n",
    "dir(__builtins__)\n",
    "\n",
    "nome = 'Paulo Torres'\n",
    "type(nome)\n",
    "__builtin__.len(nome)\n"
   ]
  },
  {
   "cell_type": "markdown",
   "id": "8062c1fd-0985-4c61-b72a-82a51337f0f5",
   "metadata": {},
   "source": [
    "# Conversão de Tipos"
   ]
  },
  {
   "cell_type": "code",
   "execution_count": 8,
   "id": "d4d76fe3-3f20-4ab9-8ea4-00722fed9a0c",
   "metadata": {},
   "outputs": [
    {
     "name": "stdout",
     "output_type": "stream",
     "text": [
      "9\n",
      "81\n",
      "12\n",
      "84\n",
      "13.6\n"
     ]
    }
   ],
   "source": [
    "print(8 + 1)\n",
    "print('8' + '1')\n",
    "\n",
    "a = 8\n",
    "b = '4'\n",
    "\n",
    "print(a + int(b))\n",
    "print(str(a) + b)\n",
    "\n",
    "print(a + float(5.6))\n"
   ]
  },
  {
   "cell_type": "markdown",
   "id": "1ed21de9-d7ec-4362-92b6-14da8dc731d9",
   "metadata": {},
   "source": [
    "# Coerção Automática"
   ]
  },
  {
   "cell_type": "code",
   "execution_count": 9,
   "id": "941b7d2c-103b-46d4-9d2c-750b86c07267",
   "metadata": {},
   "outputs": [
    {
     "data": {
      "text/plain": [
       "float"
      ]
     },
     "execution_count": 9,
     "metadata": {},
     "output_type": "execute_result"
    }
   ],
   "source": [
    "10 / 2\n",
    "type(10 / 2)\n",
    "10 / 3\n",
    "10 // 3\n",
    "type(10 // 3)\n",
    "10 // 3.3\n",
    "type(10 // 3.3)\n",
    "10 / 2.5\n",
    "2 + True\n",
    "2 + False\n",
    "type(1 + 2)\n",
    "type(1 + 2.5)\n"
   ]
  },
  {
   "cell_type": "markdown",
   "id": "b0d9877a-7a64-4ed8-b3cc-a13d4ee5cd2f",
   "metadata": {},
   "source": [
    "# Tipos Númericos"
   ]
  },
  {
   "cell_type": "code",
   "execution_count": 10,
   "id": "31f60023-9a34-49f1-86ac-28a3dafd55e8",
   "metadata": {},
   "outputs": [
    {
     "data": {
      "text/plain": [
       "3.6"
      ]
     },
     "execution_count": 10,
     "metadata": {},
     "output_type": "execute_result"
    }
   ],
   "source": [
    "dir(int)\n",
    "dir(float)\n",
    "\n",
    "a = 5\n",
    "b = 2.5\n",
    "a / b\n",
    "a + b\n",
    "a * b\n",
    "\n",
    "type(a)\n",
    "type(b)\n",
    "type(a - b)\n",
    "\n",
    "b.is_integer()\n",
    "5.0.is_integer()\n",
    "\n",
    "dir(int)\n",
    "int.__add__(2, 3)\n",
    "2 + 3\n",
    "\n",
    "(-2).__abs__()\n",
    "abs(-2)\n",
    "\n",
    "(-3.6).__abs__()\n",
    "dir(float)\n",
    "abs(-3.6)\n"
   ]
  },
  {
   "cell_type": "code",
   "execution_count": 12,
   "id": "cda8d4fd-e3ce-45f8-b722-aad799f3e792",
   "metadata": {},
   "outputs": [
    {
     "name": "stdout",
     "output_type": "stream",
     "text": [
      "3.3000000000000003\n",
      "0.1428571429\n",
      "0.1429\n",
      "7\n",
      "['__abs__', '__add__', '__bool__', '__ceil__', '__class__', '__complex__', '__copy__', '__deepcopy__', '__delattr__', '__dir__', '__divmod__', '__doc__', '__eq__', '__float__', '__floor__', '__floordiv__', '__format__', '__ge__', '__getattribute__', '__getstate__', '__gt__', '__hash__', '__init__', '__init_subclass__', '__int__', '__le__', '__lt__', '__mod__', '__module__', '__mul__', '__ne__', '__neg__', '__new__', '__pos__', '__pow__', '__radd__', '__rdivmod__', '__reduce__', '__reduce_ex__', '__repr__', '__rfloordiv__', '__rmod__', '__rmul__', '__round__', '__rpow__', '__rsub__', '__rtruediv__', '__setattr__', '__sizeof__', '__str__', '__sub__', '__subclasshook__', '__truediv__', '__trunc__', 'adjusted', 'as_integer_ratio', 'as_tuple', 'canonical', 'compare', 'compare_signal', 'compare_total', 'compare_total_mag', 'conjugate', 'copy_abs', 'copy_negate', 'copy_sign', 'exp', 'fma', 'from_float', 'imag', 'is_canonical', 'is_finite', 'is_infinite', 'is_nan', 'is_normal', 'is_qnan', 'is_signed', 'is_snan', 'is_subnormal', 'is_zero', 'ln', 'log10', 'logb', 'logical_and', 'logical_invert', 'logical_or', 'logical_xor', 'max', 'max_mag', 'min', 'min_mag', 'next_minus', 'next_plus', 'next_toward', 'normalize', 'number_class', 'quantize', 'radix', 'real', 'remainder_near', 'rotate', 'same_quantum', 'scaleb', 'shift', 'sqrt', 'to_eng_string', 'to_integral', 'to_integral_exact', 'to_integral_value']\n",
      "3.300000000\n",
      "['BasicContext', 'Clamped', 'Context', 'ConversionSyntax', 'Decimal', 'DecimalException', 'DecimalTuple', 'DefaultContext', 'DivisionByZero', 'DivisionImpossible', 'DivisionUndefined', 'ExtendedContext', 'FloatOperation', 'HAVE_CONTEXTVAR', 'HAVE_THREADS', 'Inexact', 'InvalidContext', 'InvalidOperation', 'MAX_EMAX', 'MAX_PREC', 'MIN_EMIN', 'MIN_ETINY', 'Overflow', 'ROUND_05UP', 'ROUND_CEILING', 'ROUND_DOWN', 'ROUND_FLOOR', 'ROUND_HALF_DOWN', 'ROUND_HALF_EVEN', 'ROUND_HALF_UP', 'ROUND_UP', 'Rounded', 'Subnormal', 'Underflow', '__builtins__', '__cached__', '__doc__', '__file__', '__libmpdec_version__', '__loader__', '__name__', '__package__', '__spec__', '__version__', 'getcontext', 'localcontext', 'setcontext']\n",
      "['Decimal', 'In', 'Out', '_', '_10', '_11', '_2', '_3', '_4', '_5', '_9', '__', '___', '__builtin__', '__builtins__', '__doc__', '__loader__', '__name__', '__package__', '__session__', '__spec__', '_dh', '_i', '_i1', '_i10', '_i11', '_i12', '_i2', '_i3', '_i4', '_i5', '_i6', '_i7', '_i8', '_i9', '_ih', '_ii', '_iii', '_oh', 'a', 'b', 'decimal', 'exit', 'get_ipython', 'getcontext', 'lista', 'lista1', 'lista2', 'lista3', 'nome', 'open', 'quit', 'x', 'y', 'z']\n"
     ]
    }
   ],
   "source": [
    "# Operação com ponto flutuante\n",
    "print(1.1 + 2.2)  # Pode não ser exatamente 3.3 devido à imprecisão dos floats\n",
    "\n",
    "from decimal import Decimal, getcontext\n",
    "\n",
    "# Divisão usando Decimal\n",
    "print(Decimal(1) / Decimal(7))  # Resultado mais preciso que float padrão\n",
    "\n",
    "# Definindo a precisão do Decimal para 4 dígitos\n",
    "getcontext().prec = 4\n",
    "print(Decimal(1) / Decimal(7))  # Agora limitado a 4 casas decimais\n",
    "\n",
    "# Obtendo o maior valor entre 1 e 7 usando Decimal\n",
    "print(Decimal.max(Decimal(1), Decimal(7)))  # Retorna 7\n",
    "\n",
    "# Listando métodos e atributos disponíveis na classe Decimal\n",
    "print(dir(Decimal))\n",
    "\n",
    "# Alterando a precisão para 10 dígitos\n",
    "getcontext().prec = 10\n",
    "print(Decimal(1.1) + Decimal(2.2))  # Pode não ser exatamente 3.3 devido à conversão de float para Decimal\n",
    "\n",
    "# Importando o módulo decimal inteiro\n",
    "import decimal\n",
    "\n",
    "# Listando métodos e atributos do módulo decimal\n",
    "print(dir(decimal))\n",
    "\n",
    "# Listando todas as variáveis, funções e módulos disponíveis no escopo atual\n",
    "print(dir())\n"
   ]
  }
 ],
 "metadata": {
  "kernelspec": {
   "display_name": "Python 3 (ipykernel)",
   "language": "python",
   "name": "python3"
  },
  "language_info": {
   "codemirror_mode": {
    "name": "ipython",
    "version": 3
   },
   "file_extension": ".py",
   "mimetype": "text/x-python",
   "name": "python",
   "nbconvert_exporter": "python",
   "pygments_lexer": "ipython3",
   "version": "3.11.9"
  }
 },
 "nbformat": 4,
 "nbformat_minor": 5
}
