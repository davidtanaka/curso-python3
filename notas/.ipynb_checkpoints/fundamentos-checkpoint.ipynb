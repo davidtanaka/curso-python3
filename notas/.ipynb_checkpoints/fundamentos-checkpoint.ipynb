{
 "cells": [
  {
   "cell_type": "markdown",
   "id": "c61f49b3-e45d-49cd-8ea9-6e4a6082ba03",
   "metadata": {},
   "source": [
    "# Primeiros Exemplos"
   ]
  },
  {
   "cell_type": "code",
   "execution_count": 3,
   "id": "c5c9daa2-665f-4882-88dd-b73f532503c4",
   "metadata": {},
   "outputs": [
    {
     "name": "stdout",
     "output_type": "stream",
     "text": [
      "primeiro programa\n",
      "Help on built-in function print in module builtins:\n",
      "\n",
      "print(*args, sep=' ', end='\\n', file=None, flush=False)\n",
      "    Prints the values to a stream, or to sys.stdout by default.\n",
      "    \n",
      "    sep\n",
      "      string inserted between values, default a space.\n",
      "    end\n",
      "      string appended after the last value, default a newline.\n",
      "    file\n",
      "      a file-like object (stream); defaults to the current sys.stdout.\n",
      "    flush\n",
      "      whether to forcibly flush the stream.\n",
      "\n"
     ]
    }
   ],
   "source": [
    "print('primeiro programa')\n",
    "1 \\\n",
    " + 2\n",
    "\n",
    "help(print)"
   ]
  },
  {
   "cell_type": "code",
   "execution_count": 4,
   "id": "ef228e24-6476-4bc7-9ac1-dc658e63e76c",
   "metadata": {},
   "outputs": [
    {
     "data": {
      "text/plain": [
       "15"
      ]
     },
     "execution_count": 4,
     "metadata": {},
     "output_type": "execute_result"
    }
   ],
   "source": [
    "1 + 2 + 3\n",
    "4 + 5 + 6"
   ]
  },
  {
   "cell_type": "code",
   "execution_count": 5,
   "id": "8825a1c2-7cbd-4a14-94a0-78d047c9e12d",
   "metadata": {},
   "outputs": [
    {
     "name": "stdout",
     "output_type": "stream",
     "text": [
      "6\n",
      "15\n"
     ]
    }
   ],
   "source": [
    "print(1 + 2 + 3)\n",
    "print(4 + 5 + 6)"
   ]
  },
  {
   "cell_type": "markdown",
   "id": "c660d594-9a2f-4386-92dd-c9a778a5cd2c",
   "metadata": {},
   "source": [
    "# Tipos Básicos"
   ]
  },
  {
   "cell_type": "code",
   "execution_count": 6,
   "id": "ef9d10d0-4d0f-4255-bbbe-f58145ef64e4",
   "metadata": {},
   "outputs": [
    {
     "name": "stdout",
     "output_type": "stream",
     "text": [
      "True\n",
      "False\n",
      "2.2\n",
      "Esse é meu idioma\n",
      "Com aspas duplas também funciona\n",
      "Você é muitomuitodahora!\n",
      "[1, 2, 3]\n",
      "{'nome': 'Davi', 'sobrenome': 'Tanaka'}\n",
      "None\n"
     ]
    }
   ],
   "source": [
    "print(True)\n",
    "print(False)\n",
    "print(1.2 + 1)\n",
    "print('Esse é meu idioma')\n",
    "print(\"Com aspas duplas também funciona\")\n",
    "print('Você é ' + 2 * 'muito' + 'dahora!')\n",
    "print([1, 2, 3])\n",
    "print({'nome': 'Davi', 'sobrenome': 'Tanaka'})\n",
    "print(None)"
   ]
  },
  {
   "cell_type": "markdown",
   "id": "b78f92e5-f847-4348-bce5-b976872af018",
   "metadata": {},
   "source": [
    "# Variáveis"
   ]
  },
  {
   "cell_type": "code",
   "execution_count": 7,
   "id": "184d15ca-9cea-4e90-a2b0-1250aa513496",
   "metadata": {},
   "outputs": [
    {
     "name": "stdout",
     "output_type": "stream",
     "text": [
      "15.2\n",
      "Agora sou uma string!\n"
     ]
    },
    {
     "data": {
      "text/plain": [
       "5.2"
      ]
     },
     "execution_count": 7,
     "metadata": {},
     "output_type": "execute_result"
    }
   ],
   "source": [
    "a = 10\n",
    "b = 5.2\n",
    "\n",
    "print(a + b)\n",
    "\n",
    "a = 'Agora sou uma string!'\n",
    "print(a)\n",
    "a\n",
    "b\n",
    "\n",
    "# print(a + b)"
   ]
  },
  {
   "cell_type": "markdown",
   "id": "a235eb48-5642-46ba-9f99-1dd6e37894e4",
   "metadata": {},
   "source": [
    "# Comentários"
   ]
  },
  {
   "cell_type": "code",
   "execution_count": 4,
   "id": "1729e947-3a6a-4448-b22c-b8358da8560c",
   "metadata": {},
   "outputs": [
    {
     "name": "stdout",
     "output_type": "stream",
     "text": [
      "0.17599999999999993\n",
      "Fim de verdade\n"
     ]
    }
   ],
   "source": [
    "# Minhas variáveis\n",
    "salario = 1.412\n",
    "despesas = 1.236\n",
    "\n",
    "\"\"\"\n",
    "A ideia é calcular o\n",
    "quanto vai sobrar do\n",
    "salário no fim do mês.\n",
    "\"\"\"\n",
    "sobra = salario - despesas\n",
    "print(sobra)\n",
    "\n",
    "# print(fim)\n",
    "print('Fim de verdade') # comentário também funciona aqui"
   ]
  },
  {
   "cell_type": "markdown",
   "id": "74883421-4429-4fbf-af2a-da39f6f86a46",
   "metadata": {},
   "source": [
    "# Operadores Aritméticos"
   ]
  },
  {
   "cell_type": "code",
   "execution_count": 5,
   "id": "314e628a-7819-448f-8f90-f0f44c4943a4",
   "metadata": {},
   "outputs": [
    {
     "name": "stdout",
     "output_type": "stream",
     "text": [
      "7\n",
      "1\n",
      "12.6\n",
      "1.9047619047619047\n",
      "1.0\n",
      "125\n",
      "4\n",
      "24\n"
     ]
    }
   ],
   "source": [
    "print(4 + 3)\n",
    "print(2 - 1)\n",
    "print(2 * 6.3)\n",
    "print(8 / 4.2)\n",
    "print(8 // 4.2)\n",
    "print(5 ** 3)\n",
    "print(9 % 5)\n",
    "\n",
    "a = 12\n",
    "b = a\n",
    "print(a + b)\n"
   ]
  },
  {
   "cell_type": "code",
   "execution_count": 3,
   "id": "19d14c5e-b19d-4fa6-b3d0-34ab3cf83e4a",
   "metadata": {},
   "outputs": [
    {
     "name": "stdout",
     "output_type": "stream",
     "text": [
      "Suas despesas vai utilizar um total de -> 88% do valor de seu salário\n",
      "87.53541076487252\n"
     ]
    }
   ],
   "source": [
    "# Desafio de operadores aritméticos\n",
    "salario = 1.412\n",
    "despesas = 1.236\n",
    "\n",
    "# Minha solução\n",
    "porcentagem_de_gastos = (despesas / salario) * 100\n",
    "print(f'Suas despesas vai utilizar um total de -> {porcentagem_de_gastos:.0f}% do valor de seu salário')\n",
    "\n",
    "# Solução do professor\n",
    "percentual_comprometido = despesas / salario * 100\n",
    "print(percentual_comprometido)"
   ]
  },
  {
   "cell_type": "markdown",
   "id": "fd98c3d1-969e-4f7b-9872-56be99673d62",
   "metadata": {},
   "source": [
    "# Operadores Relacionais"
   ]
  },
  {
   "cell_type": "code",
   "execution_count": null,
   "id": "aa837be1-98f7-4581-ae6b-d6a5988293c9",
   "metadata": {},
   "outputs": [],
   "source": [
    "# Operadores relacionais em Python:\n",
    "# Observe a diferença entre comparar números (int) e strings (str)\n",
    "print(3 > 4) \n",
    "print(4 >= 3)\n",
    "print(1 < 2)\n",
    "print(3 <= 1)\n",
    "print(3 != 2)\n",
    "print(4==4)  # Comparação numérica\n",
    "print(4=='4') # Comparação de tipos diferentes (número e string)\n"
   ]
  },
  {
   "cell_type": "markdown",
   "id": "11400892-5c5c-4ee1-90e9-49c84265fa27",
   "metadata": {},
   "source": [
    "# Operadores de atribuição"
   ]
  },
  {
   "cell_type": "code",
   "execution_count": null,
   "id": "aa731707-369e-4dbb-a611-d0a5281374b6",
   "metadata": {},
   "outputs": [],
   "source": [
    "# Operadores de Atribuição\n",
    "# -------------------------\n",
    "# Permitem modificar variáveis com operações diretas.\n",
    "# Exemplo: a += 5 equivale a a = a + 5\n",
    "\n",
    "# Inicializa 'a'\n",
    "a = 4\n",
    "\n",
    "# Operações com operadores de atribuição\n",
    "a += 7\n",
    "print(a)  # 11\n",
    "\n",
    "a += 5\n",
    "print(a)  # 16\n",
    "\n",
    "a -= 2\n",
    "print(a)  # 14\n",
    "\n",
    "a *= 3\n",
    "print(a)  # 42\n",
    "\n",
    "a /= 1\n",
    "print(a)  # 42.0\n",
    "\n",
    "a %= 4\n",
    "print(a)  # 2.0\n",
    "\n",
    "a **= 6\n",
    "print(a)  # 64.0\n",
    "\n",
    "a //= 453\n",
    "print(a)  # 0.0\n"
   ]
  },
  {
   "cell_type": "markdown",
   "id": "ae41456d-9f11-41cb-9ea1-45a59dfac7a2",
   "metadata": {},
   "source": [
    "# Operadores Lógicos"
   ]
  },
  {
   "cell_type": "code",
   "execution_count": 9,
   "id": "0aeb57b7-1fd3-4e02-9c25-06bf748e85f6",
   "metadata": {},
   "outputs": [
    {
     "data": {
      "text/plain": [
       "True"
      ]
     },
     "execution_count": 9,
     "metadata": {},
     "output_type": "execute_result"
    }
   ],
   "source": [
    "True or False\n",
    "7 != 3 and 2 > 3\n",
    "\n",
    "# Tabela da Verdade do AND\n",
    "True and True\n",
    "True and False\n",
    "False and True\n",
    "False and False\n",
    "\n",
    "\n",
    "# Tabela da Verdade do OR\n",
    "True or True\n",
    "True or False\n",
    "False or True\n",
    "False or False\n",
    "\n",
    "\n",
    "# Tabela da Verdade do XOR\n",
    "True != True\n",
    "True != False\n",
    "False != True\n",
    "False != False\n",
    "\n",
    "# Operador de negação (unário)\n",
    "not True\n",
    "not False\n",
    "\n",
    "# Um pouco de realidade\n",
    "saldo = 1000 \n",
    "salario = 3400\n",
    "despesas = 1900\n",
    "\n",
    "saldo_positivo = saldo > 0\n",
    "despesas_controladas = salario - despesas >= 0.2 * salario\n",
    "\n",
    "meta = saldo_positivo and despesas_controladas\n",
    "meta\n"
   ]
  }
 ],
 "metadata": {
  "kernelspec": {
   "display_name": "Python 3 (ipykernel)",
   "language": "python",
   "name": "python3"
  },
  "language_info": {
   "codemirror_mode": {
    "name": "ipython",
    "version": 3
   },
   "file_extension": ".py",
   "mimetype": "text/x-python",
   "name": "python",
   "nbconvert_exporter": "python",
   "pygments_lexer": "ipython3",
   "version": "3.11.9"
  }
 },
 "nbformat": 4,
 "nbformat_minor": 5
}
